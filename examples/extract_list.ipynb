{
 "cells": [
  {
   "cell_type": "markdown",
   "metadata": {},
   "source": [
    "# How to Extract & Structure with `truffles`\n",
    "Truffles extends playwright functionality in many ways. \n",
    "- A `truffles` page, can be used just like a `playwright` page, but with added tools to extract and structure lists.\n",
    "\n",
    "- If (god forbid) the LLM does not work, you can still use conventional playwright without problems.\n",
    "\n",
    "## Import & Setup Playwright"
   ]
  },
  {
   "cell_type": "code",
   "execution_count": 1,
   "metadata": {},
   "outputs": [],
   "source": [
    "# import both truffles and playwright\n",
    "from playwright.async_api import async_playwright\n",
    "\n",
    "# start playwright\n",
    "p = await async_playwright().start()\n",
    "browser = await p.chromium.launch()\n",
    "playwright_page = await browser.new_page(  # a good useragent goes a long way\n",
    "    user_agent=\"Mozilla/5.0 (Macintosh; Intel Mac OS X 10_15_7) AppleWebKit/537.36 (KHTML, like Gecko) Chrome/125.0.0.0 Safari/537.36\"\n",
    ")"
   ]
  },
  {
   "cell_type": "markdown",
   "metadata": {},
   "source": [
    "## Setup & Initialize `truffles`"
   ]
  },
  {
   "cell_type": "code",
   "execution_count": 2,
   "metadata": {},
   "outputs": [
    {
     "data": {
      "text/plain": [
       "<Response url='https://kaufleuten.ch/events/' request=<Request url='https://kaufleuten.ch/events/' method='GET'>>"
      ]
     },
     "execution_count": 2,
     "metadata": {},
     "output_type": "execute_result"
    }
   ],
   "source": [
    "import truffles\n",
    "\n",
    "# you may need to:\n",
    "# os.environ[\"OPENAI_API_KEY\"] = \"your-openai-api-key\"\n",
    "\n",
    "# wrap with truffles\n",
    "await truffles.start()\n",
    "page = await truffles.wrap(playwright_page)\n",
    "\n",
    "await page.goto(\"https://kaufleuten.ch/events\")  # try your own page, and let me know :)"
   ]
  },
  {
   "cell_type": "markdown",
   "metadata": {},
   "source": [
    "## Get all list elements\n",
    "\n",
    "The `page.tools` defines a set of tools that can be used to interact with the page and augment playwright with additional functionality that requires LLM calls.\n",
    "Currently the main tool is:\n",
    "\n",
    "- `get_main_list`: Returns a list of locators for the elements that are the main list on the page.\n",
    "\n",
    "\n"
   ]
  },
  {
   "cell_type": "code",
   "execution_count": 3,
   "metadata": {},
   "outputs": [],
   "source": [
    "locators = await page.tools.get_main_list()  # congrats! you now have a list of locators."
   ]
  },
  {
   "cell_type": "markdown",
   "metadata": {},
   "source": [
    "### Cool, but why is this useful?\n",
    "\n",
    "- If the page content or page structure changes, you can still use the same code.\n",
    "\n",
    "- You can use the same code to extract the main list from multiple different pages.\n",
    "\n",
    "- Selector caching via `StoreManager` prevents redundant LLM calls in many cases.\n",
    "\n",
    "- The locators we received are real locators on the page\n",
    "    - no hallucinations, yay! \n",
    "\n",
    "## Extracting Data\n",
    "\n",
    "To be certain that the data we receive is correct, we can use a pydantic model to structure the data.\n"
   ]
  },
  {
   "cell_type": "code",
   "execution_count": 4,
   "metadata": {},
   "outputs": [],
   "source": [
    "from pydantic import BaseModel, Field\n",
    "\n",
    "\n",
    "class Event(BaseModel):  # define a pydantic model to structure the data\n",
    "    title: str = Field(description=\"The title of the event\")\n",
    "    date: str = Field(description=\"The date of the event\", format=\"YYYY-MM-DD\")\n",
    "    description: str = Field(description=\"Description of the event. If longer than 100 words, summarize.\")\n",
    "\n",
    "    # providing default values works very well\n",
    "    location: str = Field(description=\"The location of the event.\", default=\"\")"
   ]
  },
  {
   "cell_type": "markdown",
   "metadata": {},
   "source": [
    "We can now use `locator.tools.to_structure()` to extract the data from each locator.\n",
    "\n",
    "```python\n",
    "from tqdm import tqdm\n",
    "\n",
    "results = []\n",
    "for loc in tqdm(locators): # This takes about 1.5 seconds per locator\n",
    "    results.append(await loc.tools.to_structure(Event))\n",
    "```\n",
    "\n",
    "Since we mostly wait for the LLM, we can do this in a parallel fashion for **ultra-speed**\n"
   ]
  },
  {
   "cell_type": "code",
   "execution_count": 5,
   "metadata": {},
   "outputs": [],
   "source": [
    "import asyncio\n",
    "\n",
    "task_list = [\n",
    "    # note the missing await!\n",
    "    loc.tools.to_structure(Event)\n",
    "    for loc in locators\n",
    "]\n",
    "\n",
    "# If the OpenAI API complies, this takes about 12 seconds total\n",
    "# or roughly 0.1 seconds per locator!\n",
    "results = await asyncio.gather(*task_list)"
   ]
  },
  {
   "cell_type": "markdown",
   "metadata": {},
   "source": [
    "> Note: in `.to_structure(filter_relevance=True)`, the LLM will return `None` if the locator is not relevant to the pydantic schema (i.e. for example some functionality `<div/>` or `<span/>`)\n",
    "\n",
    "### Check the Results\n",
    "\n",
    "We can now visualize the results and compare them to the original page."
   ]
  },
  {
   "cell_type": "code",
   "execution_count": 6,
   "metadata": {},
   "outputs": [
    {
     "name": "stdout",
     "output_type": "stream",
     "text": [
      "<!-- filtered element -->\n",
      "{\n",
      "  \"title\": \"DISCO PARTY\",\n",
      "  \"date\": \"2024-12-14\",\n",
      "  \"description\": \"DISCO, HOUSE, PARTY & CLUB HITS ALL NIGHT LONG!\",\n",
      "  \"location\": \"\"\n",
      "}\n",
      "{\n",
      "  \"title\": \"Groove Garden w/ Rendher\",\n",
      "  \"date\": \"2024-12-14\",\n",
      "  \"description\": \"Our secret garden of pleasure\",\n",
      "  \"location\": \"kaufleuten.otherdoor\"\n",
      "}\n",
      "{\n",
      "  \"title\": \"Snapback\",\n",
      "  \"date\": \"2024-12-14\",\n",
      "  \"description\": \"The Best Hip-Hop Party in Switzerland\",\n",
      "  \"location\": \"\"\n",
      "}\n",
      "{\n",
      "  \"title\": \"To Athena • Konzert\",\n",
      "  \"date\": \"2024-12-15\",\n",
      "  \"description\": \"Die sensationelle Mundart-Sängerin - «The Movie Tour»\",\n",
      "  \"location\": \"\"\n",
      "}\n"
     ]
    }
   ],
   "source": [
    "import json\n",
    "\n",
    "for result in results[:5]:\n",
    "    if result is None:\n",
    "        print(\"<!-- filtered element -->\")\n",
    "        continue\n",
    "\n",
    "    print(json.dumps(result.model_dump(), indent=2, ensure_ascii=False))"
   ]
  },
  {
   "cell_type": "markdown",
   "metadata": {},
   "source": [
    "### It gets a bit more interesting\n",
    "\n",
    "Internally, `truffles` uses a `StoreManager` to cache the locators and selectors. So, if you call `get_main_list`, it will return the same locators and selectors, but:\n",
    "- almost instantly *\n",
    "\n",
    "- without the need for LLM calls *\n",
    "\n",
    "\n",
    "*if the locators and selectors are cached and the page structure has not changed too much"
   ]
  },
  {
   "cell_type": "code",
   "execution_count": 9,
   "metadata": {},
   "outputs": [],
   "source": [
    "# on some pages, the caching does not work yet. It may need a couple of tries.\n",
    "locators_again = await page.tools.get_main_list()"
   ]
  },
  {
   "cell_type": "markdown",
   "metadata": {},
   "source": [
    "## The Entire Script\n",
    "\n",
    "On many pages, where you want to extract with the same `pydantic` schema, the script is exactly the same (incredible, right?)\n",
    "> If you want to help increase the number of pages where 3 lines are enough, open an issue and/or contribute!"
   ]
  },
  {
   "cell_type": "code",
   "execution_count": null,
   "metadata": {},
   "outputs": [],
   "source": [
    "await page.goto(\"https://kaufleuten.ch/events\")  # try your own page, and let me know :)\n",
    "\n",
    "locators = await page.tools.get_main_list()  # congrats! you now have a list of locators.\n",
    "\n",
    "results = await asyncio.gather(*[loc.tools.to_structure(Event) for loc in locators])"
   ]
  },
  {
   "cell_type": "markdown",
   "metadata": {},
   "source": [
    "### That is **3 lines of code** to extract for many, many pages."
   ]
  }
 ],
 "metadata": {
  "kernelspec": {
   "display_name": "truffle-b-aabBjG-py3.12",
   "language": "python",
   "name": "python3"
  },
  "language_info": {
   "codemirror_mode": {
    "name": "ipython",
    "version": 3
   },
   "file_extension": ".py",
   "mimetype": "text/x-python",
   "name": "python",
   "nbconvert_exporter": "python",
   "pygments_lexer": "ipython3",
   "version": "3.12.4"
  }
 },
 "nbformat": 4,
 "nbformat_minor": 2
}
